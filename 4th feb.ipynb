{
 "cells": [
  {
   "cell_type": "code",
   "execution_count": 7,
   "id": "c10432de-4152-45ee-85e9-cd221374550d",
   "metadata": {},
   "outputs": [],
   "source": [
    "#Q1.\n",
    "\n",
    "I1 = [(\"Sachin Tendulkar\",34357),(\"Ricky Ponting\",27483),(\"Jack kallis\",25534),(\"Virat Kohli\",24936)]"
   ]
  },
  {
   "cell_type": "code",
   "execution_count": 8,
   "id": "994a36a4-af92-4fc0-b87f-0400ae3040d2",
   "metadata": {},
   "outputs": [],
   "source": [
    "a = lambda x: x.sort(key = lambda item:item[1])"
   ]
  },
  {
   "cell_type": "code",
   "execution_count": 9,
   "id": "1ae3e068-66fa-401d-ad37-fa0b3c2fd41b",
   "metadata": {},
   "outputs": [
    {
     "name": "stdout",
     "output_type": "stream",
     "text": [
      "[('Virat Kohli', 24936), ('Jack kallis', 25534), ('Ricky Ponting', 27483), ('Sachin Tendulkar', 34357)]\n"
     ]
    }
   ],
   "source": [
    "a(I1)\n",
    "print(I1)"
   ]
  },
  {
   "cell_type": "code",
   "execution_count": 10,
   "id": "7efa651c-1b86-4250-9414-cc6a44c60774",
   "metadata": {},
   "outputs": [
    {
     "data": {
      "text/plain": [
       "[1, 4, 9, 16, 25, 36, 49, 64, 81, 100]"
      ]
     },
     "execution_count": 10,
     "metadata": {},
     "output_type": "execute_result"
    }
   ],
   "source": [
    "#Q2.\n",
    "\n",
    "I2 = [1,2,3,4,5,6,7,8,9,10]\n",
    "list(map(lambda x : x**2,I2))"
   ]
  },
  {
   "cell_type": "code",
   "execution_count": 11,
   "id": "27e10cda-1ad5-42ef-bd19-e9e52873e1a2",
   "metadata": {},
   "outputs": [
    {
     "data": {
      "text/plain": [
       "('1', '2', '3', '4', '5', '6', '7', '8', '9', '10')"
      ]
     },
     "execution_count": 11,
     "metadata": {},
     "output_type": "execute_result"
    }
   ],
   "source": [
    "#Q3.\n",
    "\n",
    "I3 = [1,2,3,4,5,6,7,8,9,10]\n",
    "tuple(map(lambda x : str(x),I3))"
   ]
  },
  {
   "cell_type": "code",
   "execution_count": 13,
   "id": "92cf727d-cd5f-4995-b00c-8d0bfa2ae385",
   "metadata": {},
   "outputs": [
    {
     "data": {
      "text/plain": [
       "15511210043330985984000000"
      ]
     },
     "execution_count": 13,
     "metadata": {},
     "output_type": "execute_result"
    }
   ],
   "source": [
    "#Q4.\n",
    "\n",
    "I4 = list(range(1,26))\n",
    "from functools import reduce\n",
    "reduce(lambda x,y : x*y , I4)"
   ]
  },
  {
   "cell_type": "code",
   "execution_count": 14,
   "id": "f3248462-af6b-415b-9ac8-24054609322f",
   "metadata": {},
   "outputs": [
    {
     "data": {
      "text/plain": [
       "[6, 60, 90, 120]"
      ]
     },
     "execution_count": 14,
     "metadata": {},
     "output_type": "execute_result"
    }
   ],
   "source": [
    "#Q5.\n",
    "\n",
    "I5 = [2, 3, 6, 9, 27, 60, 90, 120, 55, 46]\n",
    "list(filter(lambda x : x%2==0 and x%3==0,I5))"
   ]
  },
  {
   "cell_type": "code",
   "execution_count": 16,
   "id": "724d276f-5dbe-4d5e-bf7f-13d8685d130c",
   "metadata": {},
   "outputs": [
    {
     "data": {
      "text/plain": [
       "['php', 'aba', 'radar', 'level']"
      ]
     },
     "execution_count": 16,
     "metadata": {},
     "output_type": "execute_result"
    }
   ],
   "source": [
    "#Q6.\n",
    "\n",
    "I6 = ['python', 'php', 'aba', 'radar', 'level']\n",
    "list(filter(lambda x : x==x [::-1],I6))"
   ]
  },
  {
   "cell_type": "code",
   "execution_count": null,
   "id": "3c71a83e-eea1-456f-a223-869ec6e702cb",
   "metadata": {},
   "outputs": [],
   "source": []
  }
 ],
 "metadata": {
  "kernelspec": {
   "display_name": "Python 3 (ipykernel)",
   "language": "python",
   "name": "python3"
  },
  "language_info": {
   "codemirror_mode": {
    "name": "ipython",
    "version": 3
   },
   "file_extension": ".py",
   "mimetype": "text/x-python",
   "name": "python",
   "nbconvert_exporter": "python",
   "pygments_lexer": "ipython3",
   "version": "3.10.8"
  }
 },
 "nbformat": 4,
 "nbformat_minor": 5
}
